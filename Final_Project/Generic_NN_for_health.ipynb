{
  "nbformat": 4,
  "nbformat_minor": 0,
  "metadata": {
    "colab": {
      "provenance": []
    },
    "kernelspec": {
      "name": "python3",
      "display_name": "Python 3"
    },
    "language_info": {
      "name": "python"
    }
  },
  "cells": [
    {
      "cell_type": "markdown",
      "source": [
        "Neural Network.\n",
        "\n",
        "Adapted from https://www.kaggle.com/datasets/johnsmith88/heart-disease-dataset\n"
      ],
      "metadata": {
        "id": "fGccR_CZ4rnS"
      }
    },
    {
      "cell_type": "code",
      "source": [
        "# GLOBALS\n",
        "LEARNING_RATE = 0.001 # 0.001, 0.003, 0.03\n",
        "using_heart = True # True, False"
      ],
      "metadata": {
        "id": "4Klc1QbrJAkf"
      },
      "execution_count": null,
      "outputs": []
    },
    {
      "cell_type": "code",
      "source": [
        "import numpy as np\n",
        "import torch\n",
        "import torch.nn as nn\n",
        "import torch.optim as optim\n",
        "\n",
        "# Load Datasets\n",
        "from google.colab import drive\n",
        "drive.mount('/content/drive')\n",
        "if (using_heart):\n",
        "  dataset = np.genfromtxt('/content/drive/MyDrive/datasets/heart.csv', dtype=float, delimiter=',', skip_header=1)\n",
        "else:\n",
        "  dataset = np.loadtxt('/content/drive/MyDrive/datasets/pima-indians-diabetes.data.csv', delimiter=',')\n",
        "\n",
        "dataset"
      ],
      "metadata": {
        "colab": {
          "base_uri": "https://localhost:8080/"
        },
        "id": "Buk_mvwd6pZ-",
        "outputId": "c2ad83ec-29e5-400a-c819-685ea53a371d"
      },
      "execution_count": null,
      "outputs": [
        {
          "output_type": "stream",
          "name": "stdout",
          "text": [
            "Drive already mounted at /content/drive; to attempt to forcibly remount, call drive.mount(\"/content/drive\", force_remount=True).\n"
          ]
        },
        {
          "output_type": "execute_result",
          "data": {
            "text/plain": [
              "array([[52.,  1.,  0., ...,  2.,  3.,  0.],\n",
              "       [53.,  1.,  0., ...,  0.,  3.,  0.],\n",
              "       [70.,  1.,  0., ...,  0.,  3.,  0.],\n",
              "       ...,\n",
              "       [47.,  1.,  0., ...,  1.,  2.,  0.],\n",
              "       [50.,  0.,  0., ...,  0.,  2.,  1.],\n",
              "       [54.,  1.,  0., ...,  1.,  3.,  0.]])"
            ]
          },
          "metadata": {},
          "execution_count": 85
        }
      ]
    },
    {
      "cell_type": "markdown",
      "source": [
        "##TODOS:\n",
        "####Antes de tener resultados:\n",
        "1. Revisar si los datos están balanceados en ambos datasets.\n",
        "2. Agregar F1-Score\n",
        "3. Correr las 4 versiones de ambas redes (con lr = 0.001, 0.003 ,0.03)\n",
        "- 3.1 Input -> 12 -> 1 MaevaWinter\n",
        "- 3.2 Input -> 24 -> 1 Joha-neural-network\n",
        "- 3.3 Input -> 8 -> 1 Randalistico\n",
        "- 3.4 Input -> 12 -> 24 -> 1 Joe\n",
        "\n",
        "####Después de tener resultados:\n",
        "1. EDA\n",
        "\n",
        "\n",
        "####Notas\n",
        "Pima-diabetes\n",
        "268 of 768 are 1, the others are 0\n",
        "\n",
        "Heart\n",
        "526 of 1025 are 1, the others are 0"
      ],
      "metadata": {
        "id": "tLhao9i-_aRZ"
      }
    },
    {
      "cell_type": "code",
      "source": [
        "# Split into input (X) and output (y) variables\n",
        "if (using_heart):\n",
        "  X = dataset[:,0:13]\n",
        "  y = dataset[:,13]\n",
        "\n",
        "  X = torch.tensor(X, dtype=torch.float32)\n",
        "  y = torch.tensor(y, dtype=torch.float32).reshape(-1, 1)\n",
        "\n",
        "  print(X)\n",
        "\n",
        "else:\n",
        "  X = dataset[:,0:8]\n",
        "  y = dataset[:,8]\n",
        "\n",
        "  # Oversampling\n",
        "  # We are only over sampling over training data in order to\n",
        "  # predict only over the real values\n",
        "  from imblearn.over_sampling import SMOTE\n",
        "  oversample = SMOTE()\n",
        "  X_resampled, y_resampled = oversample.fit_resample(X, y)\n",
        "\n",
        "  # Train test sets to torch tensors.\n",
        "  X_resampled = torch.tensor(X, dtype=torch.float32)\n",
        "  y_resampled = torch.tensor(y, dtype=torch.float32).reshape(-1, 1)\n",
        "\n",
        "  X = torch.tensor(X, dtype=torch.float32)\n",
        "  y = torch.tensor(y, dtype=torch.float32).reshape(-1, 1)\n",
        "\n",
        "  print(X, X_resampled)"
      ],
      "metadata": {
        "colab": {
          "base_uri": "https://localhost:8080/"
        },
        "id": "ZmWUqz4065pc",
        "outputId": "945e4d84-36a6-4bea-ed69-cde15fce6945"
      },
      "execution_count": null,
      "outputs": [
        {
          "output_type": "stream",
          "name": "stdout",
          "text": [
            "tensor([[52.,  1.,  0.,  ...,  2.,  2.,  3.],\n",
            "        [53.,  1.,  0.,  ...,  0.,  0.,  3.],\n",
            "        [70.,  1.,  0.,  ...,  0.,  0.,  3.],\n",
            "        ...,\n",
            "        [47.,  1.,  0.,  ...,  1.,  1.,  2.],\n",
            "        [50.,  0.,  0.,  ...,  2.,  0.,  2.],\n",
            "        [54.,  1.,  0.,  ...,  1.,  1.,  3.]])\n"
          ]
        }
      ]
    },
    {
      "cell_type": "code",
      "source": [
        "# define the model\n",
        "if (using_heart):\n",
        "  model = nn.Sequential(\n",
        "      nn.Linear(13, 12),\n",
        "      nn.ReLU(),\n",
        "      nn.Linear(12, 24),\n",
        "      nn.ReLU(),\n",
        "      nn.Linear(24, 1),\n",
        "      nn.Sigmoid()\n",
        "  )\n",
        "else:\n",
        "  model = nn.Sequential(\n",
        "      nn.Linear(8, 12),\n",
        "      nn.ReLU(),\n",
        "      nn.Linear(12, 24),\n",
        "      nn.ReLU(),\n",
        "      nn.Linear(24, 1),\n",
        "      nn.Sigmoid()\n",
        "  )\n",
        "print(model)"
      ],
      "metadata": {
        "colab": {
          "base_uri": "https://localhost:8080/"
        },
        "id": "QMS-uNGo8_jZ",
        "outputId": "eb7e3d8e-b604-4fe0-8be6-1cc066bb852d"
      },
      "execution_count": null,
      "outputs": [
        {
          "output_type": "stream",
          "name": "stdout",
          "text": [
            "Sequential(\n",
            "  (0): Linear(in_features=13, out_features=12, bias=True)\n",
            "  (1): ReLU()\n",
            "  (2): Linear(in_features=12, out_features=24, bias=True)\n",
            "  (3): ReLU()\n",
            "  (4): Linear(in_features=24, out_features=1, bias=True)\n",
            "  (5): Sigmoid()\n",
            ")\n"
          ]
        }
      ]
    },
    {
      "cell_type": "code",
      "execution_count": null,
      "metadata": {
        "colab": {
          "base_uri": "https://localhost:8080/"
        },
        "id": "baksL6Ee4NKP",
        "outputId": "209ed465-8738-43df-b7c6-0c8e6ded0314"
      },
      "outputs": [
        {
          "output_type": "stream",
          "name": "stdout",
          "text": [
            "Finished epoch 0, latest loss 0.7132564187049866\n",
            "Finished epoch 1, latest loss 0.593629777431488\n",
            "Finished epoch 2, latest loss 0.5214617252349854\n",
            "Finished epoch 3, latest loss 0.4637835919857025\n",
            "Finished epoch 4, latest loss 0.41851943731307983\n",
            "Finished epoch 5, latest loss 0.38422760367393494\n",
            "Finished epoch 6, latest loss 0.3520282804965973\n",
            "Finished epoch 7, latest loss 0.3257197439670563\n",
            "Finished epoch 8, latest loss 0.3016853332519531\n",
            "Finished epoch 9, latest loss 0.2786504328250885\n",
            "Finished epoch 10, latest loss 0.2584880590438843\n",
            "Finished epoch 11, latest loss 0.23949286341667175\n",
            "Finished epoch 12, latest loss 0.2233273684978485\n",
            "Finished epoch 13, latest loss 0.20906344056129456\n",
            "Finished epoch 14, latest loss 0.1969996988773346\n",
            "Finished epoch 15, latest loss 0.18517862260341644\n",
            "Finished epoch 16, latest loss 0.17790380120277405\n",
            "Finished epoch 17, latest loss 0.16806906461715698\n",
            "Finished epoch 18, latest loss 0.1634366512298584\n",
            "Finished epoch 19, latest loss 0.15682142972946167\n",
            "Finished epoch 20, latest loss 0.1498682051897049\n",
            "Finished epoch 21, latest loss 0.14743463695049286\n",
            "Finished epoch 22, latest loss 0.14210331439971924\n",
            "Finished epoch 23, latest loss 0.13717974722385406\n",
            "Finished epoch 24, latest loss 0.13470527529716492\n",
            "Finished epoch 25, latest loss 0.13132423162460327\n",
            "Finished epoch 26, latest loss 0.13235226273536682\n",
            "Finished epoch 27, latest loss 0.13072560727596283\n",
            "Finished epoch 28, latest loss 0.13122156262397766\n",
            "Finished epoch 29, latest loss 0.12493981420993805\n",
            "Finished epoch 30, latest loss 0.1225513219833374\n",
            "Finished epoch 31, latest loss 0.12556666135787964\n",
            "Finished epoch 32, latest loss 0.12054850161075592\n",
            "Finished epoch 33, latest loss 0.12268321216106415\n",
            "Finished epoch 34, latest loss 0.1192953959107399\n",
            "Finished epoch 35, latest loss 0.12048258632421494\n",
            "Finished epoch 36, latest loss 0.12165713310241699\n",
            "Finished epoch 37, latest loss 0.11705644428730011\n",
            "Finished epoch 38, latest loss 0.12034454196691513\n",
            "Finished epoch 39, latest loss 0.11861934512853622\n",
            "Finished epoch 40, latest loss 0.11714448779821396\n",
            "Finished epoch 41, latest loss 0.11697449535131454\n",
            "Finished epoch 42, latest loss 0.1195811778306961\n",
            "Finished epoch 43, latest loss 0.12026245892047882\n",
            "Finished epoch 44, latest loss 0.1169837936758995\n",
            "Finished epoch 45, latest loss 0.1218574047088623\n",
            "Finished epoch 46, latest loss 0.12250131368637085\n",
            "Finished epoch 47, latest loss 0.12338291108608246\n",
            "Finished epoch 48, latest loss 0.1218988299369812\n",
            "Finished epoch 49, latest loss 0.12053517997264862\n",
            "Finished epoch 50, latest loss 0.12327949702739716\n",
            "Finished epoch 51, latest loss 0.12313300371170044\n",
            "Finished epoch 52, latest loss 0.12313845008611679\n",
            "Finished epoch 53, latest loss 0.12498060613870621\n",
            "Finished epoch 54, latest loss 0.12300167977809906\n",
            "Finished epoch 55, latest loss 0.12311156839132309\n",
            "Finished epoch 56, latest loss 0.12104539573192596\n",
            "Finished epoch 57, latest loss 0.11690545082092285\n",
            "Finished epoch 58, latest loss 0.11835700273513794\n",
            "Finished epoch 59, latest loss 0.11473741382360458\n",
            "Finished epoch 60, latest loss 0.12399269640445709\n",
            "Finished epoch 61, latest loss 0.11366083472967148\n",
            "Finished epoch 62, latest loss 0.11698554456233978\n",
            "Finished epoch 63, latest loss 0.11727370321750641\n",
            "Finished epoch 64, latest loss 0.11492417752742767\n",
            "Finished epoch 65, latest loss 0.11391842365264893\n",
            "Finished epoch 66, latest loss 0.11142738163471222\n",
            "Finished epoch 67, latest loss 0.11310426145792007\n",
            "Finished epoch 68, latest loss 0.10630863904953003\n",
            "Finished epoch 69, latest loss 0.10816320031881332\n",
            "Finished epoch 70, latest loss 0.1137903705239296\n",
            "Finished epoch 71, latest loss 0.11349855363368988\n",
            "Finished epoch 72, latest loss 0.11672457307577133\n",
            "Finished epoch 73, latest loss 0.1097794771194458\n",
            "Finished epoch 74, latest loss 0.11358918249607086\n",
            "Finished epoch 75, latest loss 0.10829275846481323\n",
            "Finished epoch 76, latest loss 0.10482313483953476\n",
            "Finished epoch 77, latest loss 0.10172222554683685\n",
            "Finished epoch 78, latest loss 0.11276805400848389\n",
            "Finished epoch 79, latest loss 0.11059983819723129\n",
            "Finished epoch 80, latest loss 0.10713623464107513\n",
            "Finished epoch 81, latest loss 0.09850804507732391\n",
            "Finished epoch 82, latest loss 0.11682585626840591\n",
            "Finished epoch 83, latest loss 0.09794812649488449\n",
            "Finished epoch 84, latest loss 0.1140998974442482\n",
            "Finished epoch 85, latest loss 0.11537647247314453\n",
            "Finished epoch 86, latest loss 0.11983537673950195\n",
            "Finished epoch 87, latest loss 0.11674972623586655\n",
            "Finished epoch 88, latest loss 0.12556703388690948\n",
            "Finished epoch 89, latest loss 0.12030293047428131\n",
            "Finished epoch 90, latest loss 0.11877565085887909\n",
            "Finished epoch 91, latest loss 0.11581723392009735\n",
            "Finished epoch 92, latest loss 0.11981908231973648\n",
            "Finished epoch 93, latest loss 0.12405136972665787\n",
            "Finished epoch 94, latest loss 0.12044122070074081\n",
            "Finished epoch 95, latest loss 0.1265275776386261\n",
            "Finished epoch 96, latest loss 0.1262553185224533\n",
            "Finished epoch 97, latest loss 0.11897163093090057\n",
            "Finished epoch 98, latest loss 0.1269097477197647\n",
            "Finished epoch 99, latest loss 0.13721968233585358\n"
          ]
        }
      ],
      "source": [
        "# train the model\n",
        "loss_fn   = nn.BCELoss()  # binary cross entropy\n",
        "optimizer = optim.Adam(model.parameters(), lr=LEARNING_RATE)\n",
        "\n",
        "n_epochs = 100\n",
        "batch_size = 10\n",
        "\n",
        "## This if is redundant if yo rename x_resampled and y_resampled\n",
        "# to the simpler X and Y, but it is left separate on purpose for\n",
        "# studying reasons.\n",
        "if (using_heart):\n",
        "  for epoch in range(n_epochs):\n",
        "      for i in range(0, len(X), batch_size):\n",
        "          Xbatch = X[i:i+batch_size]\n",
        "          y_pred = model(Xbatch)\n",
        "          ybatch = y[i:i+batch_size]\n",
        "          loss = loss_fn(y_pred, ybatch)\n",
        "          optimizer.zero_grad()\n",
        "          loss.backward()\n",
        "          optimizer.step()\n",
        "      print(f'Finished epoch {epoch}, latest loss {loss}')\n",
        "\n",
        "else:\n",
        "  for epoch in range(n_epochs):\n",
        "      for i in range(0, len(X), batch_size):\n",
        "          Xbatch = X_resampled[i:i+batch_size]\n",
        "          y_pred = model(Xbatch)\n",
        "          ybatch = y_resampled[i:i+batch_size]\n",
        "          loss = loss_fn(y_pred, ybatch)\n",
        "          optimizer.zero_grad()\n",
        "          loss.backward()\n",
        "          optimizer.step()\n",
        "      print(f'Finished epoch {epoch}, latest loss {loss}')"
      ]
    },
    {
      "cell_type": "code",
      "source": [
        "# compute accuracy (no_grad is optional)\n",
        "with torch.no_grad():\n",
        "    y_pred = model(X)\n",
        "accuracy = (y_pred.round() == y).float().mean()\n",
        "print(f\"Accuracy {accuracy}\")\n",
        "\n",
        "from sklearn.metrics import f1_score\n",
        "y_np = y.numpy()\n",
        "y_pred_np = y_pred.round().numpy()\n",
        "f1 = f1_score(y_np, y_pred_np)\n",
        "print(f\"F1_score {f1}\")"
      ],
      "metadata": {
        "colab": {
          "base_uri": "https://localhost:8080/"
        },
        "id": "6nTOI43J9N7X",
        "outputId": "220f3e1d-65f8-45b0-ff28-349b14a1387e"
      },
      "execution_count": null,
      "outputs": [
        {
          "output_type": "stream",
          "name": "stdout",
          "text": [
            "Accuracy 0.821463406085968\n",
            "F1_score 0.8455696202531646\n"
          ]
        }
      ]
    },
    {
      "cell_type": "code",
      "source": [
        "## For quicker experimental runs.\n",
        "\n",
        "# define the model\n",
        "\n",
        "for experiment in range(9):\n",
        "\n",
        "  if (using_heart):\n",
        "    model = nn.Sequential(\n",
        "        nn.Linear(13, 12),\n",
        "        nn.ReLU(),\n",
        "        nn.Linear(12, 24),\n",
        "        nn.ReLU(),\n",
        "        nn.Linear(24, 1),\n",
        "        nn.Sigmoid()\n",
        "    )\n",
        "  else:\n",
        "    model = nn.Sequential(\n",
        "        nn.Linear(8, 12),\n",
        "        nn.ReLU(),\n",
        "        nn.Linear(12, 24),\n",
        "        nn.ReLU(),\n",
        "        nn.Linear(24, 1),\n",
        "        nn.Sigmoid()\n",
        "    )\n",
        "  #print(model)\n",
        "  # train the model\n",
        "  loss_fn   = nn.BCELoss()  # binary cross entropy\n",
        "  optimizer = optim.Adam(model.parameters(), lr=LEARNING_RATE)\n",
        "\n",
        "  n_epochs = 100\n",
        "  batch_size = 10\n",
        "\n",
        "  if (using_heart):\n",
        "    for epoch in range(n_epochs):\n",
        "        for i in range(0, len(X), batch_size):\n",
        "            Xbatch = X[i:i+batch_size]\n",
        "            y_pred = model(Xbatch)\n",
        "            ybatch = y[i:i+batch_size]\n",
        "            loss = loss_fn(y_pred, ybatch)\n",
        "            optimizer.zero_grad()\n",
        "            loss.backward()\n",
        "            optimizer.step()\n",
        "        #print(f'Finished epoch {epoch}, latest loss {loss}')\n",
        "\n",
        "  else:\n",
        "    for epoch in range(n_epochs):\n",
        "        for i in range(0, len(X), batch_size):\n",
        "            Xbatch = X_resampled[i:i+batch_size]\n",
        "            y_pred = model(Xbatch)\n",
        "            ybatch = y_resampled[i:i+batch_size]\n",
        "            loss = loss_fn(y_pred, ybatch)\n",
        "            optimizer.zero_grad()\n",
        "            loss.backward()\n",
        "            optimizer.step()\n",
        "        #print(f'Finished epoch {epoch}, latest loss {loss}')\n",
        "\n",
        "  # compute accuracy (no_grad is optional)\n",
        "  with torch.no_grad():\n",
        "      y_pred = model(X)\n",
        "  accuracy = (y_pred.round() == y).float().mean()\n",
        "  print(f\"Accuracy {accuracy}\")\n",
        "\n",
        "  from sklearn.metrics import f1_score\n",
        "  y_np = y.numpy()\n",
        "  y_pred_np = y_pred.round().numpy()\n",
        "  f1 = f1_score(y_np, y_pred_np)\n",
        "  print(f\"F1_score {f1}\")"
      ],
      "metadata": {
        "colab": {
          "base_uri": "https://localhost:8080/"
        },
        "id": "SIBrEsPVNrFj",
        "outputId": "4e029b28-8335-4dd8-9f7d-9f97c3172a5c"
      },
      "execution_count": null,
      "outputs": [
        {
          "output_type": "stream",
          "name": "stdout",
          "text": [
            "Accuracy 0.8390243649482727\n",
            "F1_score 0.8586118251928021\n",
            "Accuracy 0.8390243649482727\n",
            "F1_score 0.8561464690496948\n",
            "Accuracy 0.8390243649482727\n",
            "F1_score 0.8578811369509044\n",
            "Accuracy 0.8604878187179565\n",
            "F1_score 0.873114463176575\n",
            "Accuracy 0.8321951031684875\n",
            "F1_score 0.8501742160278746\n",
            "Accuracy 0.8292682766914368\n",
            "F1_score 0.8497854077253219\n",
            "Accuracy 0.8399999737739563\n",
            "F1_score 0.8593481989708405\n",
            "Accuracy 0.8468292951583862\n",
            "F1_score 0.8638334778837815\n",
            "Accuracy 0.8370731472969055\n",
            "F1_score 0.8554112554112555\n"
          ]
        }
      ]
    }
  ]
}